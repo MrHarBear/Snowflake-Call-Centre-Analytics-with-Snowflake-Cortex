{
  "cells": [
    {
      "cell_type": "raw",
      "metadata": {
        "vscode": {
          "languageId": "raw"
        }
      },
      "source": [
        "# Advanced Call Center Analytics with Snowflake Cortex AI\n",
        "\n",
        "This notebook demonstrates Snowflake's advanced AI capabilities for call center analytics, competing directly with GONG's intelligent conversation analytics platform.\n",
        "\n",
        "## What We'll Accomplish:\n",
        "* **AI-Powered Summarization**: Generate executive summaries of calls\n",
        "* **Sentiment Analysis**: Track customer satisfaction throughout conversations\n",
        "* **Intelligent Classification**: Automatically categorize call types\n",
        "* **Smart Filtering**: Identify priority calls and escalation needs\n",
        "* **Structured Data Extraction**: Extract comprehensive call intelligence\n",
        "* **Combined AI Operations**: Demonstrate powerful AI function combinations\n",
        "\n",
        "## Business Value - Competing with GONG:\n",
        "* **Integrated Platform**: No separate analytics platform needed\n",
        "* **Real-time Processing**: Immediate insights within your data warehouse\n",
        "* **Custom Business Logic**: Flexible AI prompting for specific use cases\n",
        "* **Cost Efficiency**: Native Snowflake processing reduces infrastructure costs\n",
        "* **Enterprise Security**: Data never leaves your secure environment\n",
        "\n",
        "**Target**: Showcase enterprise-grade call intelligence capabilities\n"
      ]
    },
    {
      "cell_type": "code",
      "execution_count": null,
      "metadata": {},
      "outputs": [],
      "source": [
        "# Setup session and imports\n",
        "import streamlit as st\n",
        "import pandas as pd\n",
        "import json\n",
        "\n",
        "from snowflake.snowpark.functions import *\n",
        "from snowflake.snowpark.types import *\n",
        "from snowflake.snowpark.context import get_active_session\n",
        "\n",
        "session = get_active_session()\n",
        "\n",
        "# Set context\n",
        "session.sql(\"USE DATABASE CALL_CENTER_ANALYTICS\").collect()\n",
        "session.sql(\"USE SCHEMA AUDIO_PROCESSING\").collect()\n",
        "session.sql(\"USE WAREHOUSE AUDIO_CORTEX_WH\").collect()\n",
        "\n",
        "st.write(\"✅ AI Analytics session ready - Let's compete with GONG!\")\n"
      ]
    },
    {
      "cell_type": "raw",
      "metadata": {
        "vscode": {
          "languageId": "raw"
        }
      },
      "source": [
        "## 📊 AI_SUMMARIZE - Executive Call Summaries (First Impact!)\n",
        "\n",
        "Let's start with the most visually impactful feature - generating executive summaries of calls. This immediately shows the power of AI to distill lengthy conversations into actionable insights.\n"
      ]
    },
    {
      "cell_type": "code",
      "execution_count": null,
      "metadata": {
        "vscode": {
          "languageId": "sql"
        }
      },
      "outputs": [],
      "source": [
        "-- Generate executive summaries for all call transcripts\n",
        "CREATE OR REPLACE TABLE CALL_SUMMARIES AS\n",
        "SELECT \n",
        "    audio_file_name,\n",
        "    transcript_text,\n",
        "    SNOWFLAKE.CORTEX.SUMMARIZE(transcript_text) AS executive_summary,\n",
        "    processing_timestamp\n",
        "FROM CALL_TRANSCRIPTS;\n",
        "\n",
        "-- Display the results\n",
        "SELECT \n",
        "    audio_file_name,\n",
        "    LEFT(transcript_text, 100) || '...' AS transcript_preview,\n",
        "    executive_summary\n",
        "FROM CALL_SUMMARIES;\n"
      ]
    },
    {
      "cell_type": "raw",
      "metadata": {
        "vscode": {
          "languageId": "raw"
        }
      },
      "source": [
        "## 💝 SNOWFLAKE.CORTEX.SENTIMENT - Customer Satisfaction Analysis\n",
        "\n",
        "Understanding customer sentiment is crucial for call center operations. Let's analyze the emotional tone of our conversations.\n"
      ]
    },
    {
      "cell_type": "code",
      "execution_count": null,
      "metadata": {
        "vscode": {
          "languageId": "sql"
        }
      },
      "outputs": [],
      "source": [
        "-- Add sentiment analysis to our call data\n",
        "CREATE OR REPLACE TABLE CALL_SENTIMENT_ANALYSIS AS\n",
        "SELECT \n",
        "    cs.*,\n",
        "    SNOWFLAKE.CORTEX.SENTIMENT(transcript_text) AS sentiment_score,\n",
        "    CASE \n",
        "        WHEN SNOWFLAKE.CORTEX.SENTIMENT(transcript_text) >= 0.1 THEN '😊 Positive'\n",
        "        WHEN SNOWFLAKE.CORTEX.SENTIMENT(transcript_text) <= -0.1 THEN '😞 Negative'\n",
        "        ELSE '😐 Neutral'\n",
        "    END AS sentiment_category\n",
        "FROM CALL_SUMMARIES cs;\n",
        "\n",
        "-- Display sentiment analysis results\n",
        "SELECT \n",
        "    audio_file_name,\n",
        "    sentiment_score,\n",
        "    sentiment_category,\n",
        "    executive_summary\n",
        "FROM CALL_SENTIMENT_ANALYSIS\n",
        "ORDER BY sentiment_score DESC;\n"
      ]
    },
    {
      "cell_type": "raw",
      "metadata": {
        "vscode": {
          "languageId": "raw"
        }
      },
      "source": [
        "## 🏷️ AI_CLASSIFY - Automatic Call Categorization\n",
        "\n",
        "Automatically categorize calls to understand patterns and optimize routing strategies.\n"
      ]
    },
    {
      "cell_type": "code",
      "execution_count": null,
      "metadata": {
        "vscode": {
          "languageId": "sql"
        }
      },
      "outputs": [],
      "source": [
        "-- Classify calls into business categories\n",
        "CREATE OR REPLACE TABLE CALL_CLASSIFICATION AS\n",
        "SELECT \n",
        "    csa.*,\n",
        "    AI_CLASSIFY(\n",
        "        transcript_text, \n",
        "        ['Complaint', 'Inquiry', 'Compliment', 'Technical Support', 'Billing Issue', 'General Information']\n",
        "    ) AS call_classification\n",
        "FROM CALL_SENTIMENT_ANALYSIS csa;\n",
        "\n",
        "-- Display classification results\n",
        "SELECT \n",
        "    audio_file_name,\n",
        "    call_classification,\n",
        "    sentiment_category,\n",
        "    LEFT(executive_summary, 100) || '...' AS summary_preview\n",
        "FROM CALL_CLASSIFICATION;\n"
      ]
    },
    {
      "cell_type": "raw",
      "metadata": {
        "vscode": {
          "languageId": "raw"
        }
      },
      "source": [
        "## 🚨 AI_FILTER - Smart Priority Identification\n",
        "\n",
        "Identify calls that need immediate attention or escalation using intelligent filtering.\n"
      ]
    },
    {
      "cell_type": "code",
      "execution_count": null,
      "metadata": {
        "vscode": {
          "languageId": "sql"
        }
      },
      "outputs": [],
      "source": [
        "-- Add intelligent filtering for escalation and priority identification\n",
        "CREATE OR REPLACE TABLE CALL_PRIORITY_ANALYSIS AS\n",
        "SELECT \n",
        "    cc.*,\n",
        "    AI_FILTER(PROMPT('Does this call indicate the request needs escalating? {0}', transcript_text)) AS needs_escalation,\n",
        "    AI_FILTER(PROMPT('Is this caller expressing dissatisfaction or frustration? {0}', transcript_text)) AS high_priority_call\n",
        "FROM CALL_CLASSIFICATION cc;\n",
        "\n",
        "-- Display priority analysis results\n",
        "SELECT \n",
        "    audio_file_name,\n",
        "    call_classification,\n",
        "    sentiment_category,\n",
        "    needs_escalation,\n",
        "    high_priority_call,\n",
        "    CASE \n",
        "        WHEN needs_escalation AND high_priority_call THEN '🔴 URGENT'\n",
        "        WHEN needs_escalation OR high_priority_call THEN '🟡 PRIORITY'\n",
        "        ELSE '🟢 STANDARD'\n",
        "    END AS priority_level\n",
        "FROM CALL_PRIORITY_ANALYSIS;\n"
      ]
    },
    {
      "cell_type": "raw",
      "metadata": {
        "vscode": {
          "languageId": "raw"
        }
      },
      "source": [
        "## 🎯 AI_COMPLETE - Comprehensive Call Intelligence (GONG Competitor!)\n",
        "\n",
        "This is where we compete directly with GONG - extracting comprehensive, structured call intelligence that provides deep business insights.\n"
      ]
    },
    {
      "cell_type": "code",
      "execution_count": null,
      "metadata": {
        "vscode": {
          "languageId": "sql"
        }
      },
      "outputs": [],
      "source": [
        "-- Extract comprehensive call intelligence using AI_COMPLETE with structured output\n",
        "CREATE OR REPLACE TABLE COMPREHENSIVE_CALL_INTELLIGENCE AS\n",
        "SELECT \n",
        "    cpa.audio_file_name,\n",
        "    cpa.transcript_text,\n",
        "    cpa.executive_summary,\n",
        "    cpa.sentiment_score,\n",
        "    cpa.call_classification,\n",
        "    AI_COMPLETE(\n",
        "        model => 'snowflake-arctic',\n",
        "        prompt => 'Extract comprehensive call analytics from this call center transcript. Focus on actionable business insights that would compete with GONG platform capabilities: ' || cpa.transcript_text,\n",
        "        response_format => {\n",
        "            'type': 'json',\n",
        "            'schema': {\n",
        "                'type': 'object',\n",
        "                'properties': {\n",
        "                    'call_summary': {'type': 'string', 'description': 'Brief overview of the entire conversation'},\n",
        "                    'key_topics_discussed': {'type': 'array', 'items': {'type': 'string'}, 'description': 'Main topics covered in the call'},\n",
        "                    'customer_sentiment': {'type': 'string', 'enum': ['very_positive', 'positive', 'neutral', 'negative', 'very_negative']},\n",
        "                    'agent_performance': {'type': 'string', 'enum': ['excellent', 'good', 'satisfactory', 'needs_improvement', 'poor']},\n",
        "                    'issue_resolved': {'type': 'string', 'enum': ['fully_resolved', 'partially_resolved', 'unresolved', 'follow_up_scheduled']},\n",
        "                    'next_steps': {'type': 'array', 'items': {'type': 'string'}, 'description': 'Specific action items identified'},\n",
        "                    'follow_up_required': {'type': 'boolean'},\n",
        "                    'escalation_needed': {'type': 'boolean'},\n",
        "                    'customer_satisfaction_indicators': {'type': 'array', 'items': {'type': 'string'}},\n",
        "                    'call_outcome': {'type': 'string', 'enum': ['successful', 'unsuccessful', 'pending_resolution']},\n",
        "                    'action_items_for_agent': {'type': 'array', 'items': {'type': 'string'}},\n",
        "                    'business_impact': {'type': 'string', 'enum': ['high', 'medium', 'low']},\n",
        "                    'competitive_mentions': {'type': 'array', 'items': {'type': 'string'}, 'description': 'Any competitor mentions'},\n",
        "                    'upsell_opportunities': {'type': 'array', 'items': {'type': 'string'}}\n",
        "                },\n",
        "                'required': ['call_summary', 'key_topics_discussed', 'customer_sentiment', 'agent_performance', 'issue_resolved', 'next_steps', 'follow_up_required', 'escalation_needed']\n",
        "            }\n",
        "        }\n",
        "    ) AS comprehensive_intelligence\n",
        "FROM CALL_PRIORITY_ANALYSIS cpa;\n",
        "\n",
        "-- Display the comprehensive intelligence results\n",
        "SELECT \n",
        "    audio_file_name,\n",
        "    comprehensive_intelligence\n",
        "FROM COMPREHENSIVE_CALL_INTELLIGENCE;\n"
      ]
    }
  ],
  "metadata": {
    "language_info": {
      "name": "python"
    }
  },
  "nbformat": 4,
  "nbformat_minor": 2
}
